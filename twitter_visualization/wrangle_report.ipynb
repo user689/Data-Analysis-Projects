{
 "cells": [
  {
   "cell_type": "markdown",
   "metadata": {},
   "source": [
    "<center>\n",
    "    <h2>\n",
    "        Wrangling 'WeRateDogs' Twitter Data\n",
    "    </h2>\n",
    "</center>\n",
    "This document describes the wrangling effort done on the 'WeRateDogs' account."
   ]
  },
  {
   "cell_type": "markdown",
   "metadata": {},
   "source": [
    "### Gathering\n",
    "The first step was to gather the data. Data was gathered from 3 different sources:\n",
    "- The WeRateDogs Twitter archive, downloaded directly from Udacity. [link](https://d17h27t6h515a5.cloudfront.net/topher/2017/August/59a4e958_twitter-archive-enhanced/twitter-archive-enhanced.csv)\n",
    "- Tweet image predictions.downloaded programatically using `requests` module in python. [link](https://d17h27t6h515a5.cloudfront.net/topher/2017/August/599fd2ad_image-predictions/image-predictions.tsv). File `download_predictions.py` contains the necessary code to download the data.\n",
    "- Twitter api. To collect missing data directly from the twitter website, we had to create a developer account and apply for api access codes. the file `twitter_api.py` contains the code necessary to download all possible information about the tweets from the archive.\n",
    "\n",
    "### Assessment\n",
    "\n",
    "Next, we had to assess the data both visually and programmatically for both quality and tidiness issues. Some of the key points we had for assessments:\n",
    "\n",
    "- Detect and document at least eight (8) quality issues and two (2) tidiness issues.\n",
    "- All retweets and tweets that do not belong to a dog are irrelevant.\n",
    "- Gather tweets up to August 1st, 2017.\n",
    "\n",
    "With that in mind, and after looking through the data, we had the following issues:\n",
    "\n",
    "##### Quality Issues\n",
    " -  **Main Table**\n",
    " \n",
    "     - Some rows contain non-original tweets (replies, retweets)\n",
    "     - columns \\[in_reply_to_status_id, in_reply_to_user_id, retweeted_status_id, retweeted_status_user_id, retweeted_status_timestamp, expanded_urls, source\\] are not needed in this project.\n",
    "     - some tweets are deleted in the api_table but not in the main one\n",
    "     - the type for rating numerator should be float.\n",
    "     - Both rating numerator and denominator have wrong values.\n",
    "     - Some of the values in the 'name' column are missing. and some have value 'a' when they should be missing.\n",
    "\n",
    "- **Images Table**\n",
    "    - column names [p1,p1_conf,p1_dog] are confusing\n",
    "    - some images are not related to dogs\n",
    "    - we only need the algorithms first guess.\n",
    "    \n",
    "\n",
    "- **API Table**\n",
    "\n",
    "    - we only need 3 columns: [d, favorite_count, retweet_count]\n",
    "    \n",
    "##### Tidiness Issues\n",
    " -  **Main Table**\n",
    "    - The timestamp variable is actually a combination of 2 variables: 'date' and 'time'.\n",
    "    - The last 4 columns are a representation of 1 information: 'type'.\n",
    "\n",
    "- **Images Table**\n",
    "    - Since the images are related to the tweets. This table should also be part of the first table.\n",
    "\n",
    "- **API Table**\n",
    "    - Since favorite count and retweet count are related to the first table. This table should also be part of the first table.\n",
    "\n",
    "### Cleaning\n",
    "\n",
    "Finally, I had to put all our assessment issues into action to clean the tables. However, during my cleaning efforts, there were certain issues that needed to be reassessed. For instance, instead of deleting everything but the algorithms first guess, we could use all the guesses (p1,p2,p3) to get the most out of the database."
   ]
  }
 ],
 "metadata": {
  "kernelspec": {
   "display_name": "Python 3",
   "language": "python",
   "name": "python3"
  },
  "language_info": {
   "codemirror_mode": {
    "name": "ipython",
    "version": 3
   },
   "file_extension": ".py",
   "mimetype": "text/x-python",
   "name": "python",
   "nbconvert_exporter": "python",
   "pygments_lexer": "ipython3",
   "version": "3.7.1"
  }
 },
 "nbformat": 4,
 "nbformat_minor": 2
}
