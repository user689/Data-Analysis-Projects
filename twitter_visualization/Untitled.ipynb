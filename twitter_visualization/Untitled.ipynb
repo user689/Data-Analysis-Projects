{
 "cells": [
  {
   "cell_type": "markdown",
   "metadata": {},
   "source": [
    "###Things to do:\n",
    "\n",
    "#### Gather:\n",
    "- The WeRateDogs Twitter archive. link: https://d17h27t6h515a5.cloudfront.net/topher/2017/August/59a4e958_twitter-archive-enhanced/twitter-archive-enhanced.csv\n",
    "- Tweet image prdictions using requests. link: https://d17h27t6h515a5.cloudfront.net/topher/2017/August/599fd2ad_image-predictions/image-predictions.tsv\n",
    "- retweet count and favourite count using Twitter api.\n",
    "\n",
    "#### Assess:\n",
    "- Visually and programmatically for quality and tidiness issues. Detect and document at least eight (8) quality issues and two (2) tidiness issues in your wrangle_act.ipynb Jupyter Notebook. \n",
    "    - You only want original ratings (no retweets) that have images. Though there are 5000+ tweets in the dataset, not all are dog ratings and some are retweets.\n",
    "    - 8 quality issues and at least 2 tidiness issues in this dataset.\n",
    "    - Cleaning includes merging individual pieces of data according to the rules of tidy data.\n",
    "    - You do not need to gather the tweets beyond August 1st, 2017.\n",
    "    \n",
    "#### Clean:\n",
    "\n",
    "- Perform this cleaning in wrangle_act.ipynb as well. "
   ]
  },
  {
   "cell_type": "markdown",
   "metadata": {},
   "source": [
    "#### Visualizing \n",
    "\n",
    "- Store the clean DataFrame(s) in a CSV file with the main one named twitter_archive_master.csv. \n",
    "- Analyze and visualize your wrangled data in your wrangle_act.ipynb Jupyter Notebook. At least three (3) insights and one (1) visualization must be produced."
   ]
  },
  {
   "cell_type": "markdown",
   "metadata": {},
   "source": [
    "#### Reports:\n",
    "\n",
    "- Create a _300-600 word_ written report called **wrangle_report.pdf** or wrangle_report.html that briefly describes your wrangling efforts. This is to be framed as an **internal** document.\n",
    "\n",
    "- Create a _250-word-minimum_ written report called **act_report.pdf** or act_report.html that communicates the insights and displays the visualization(s) produced from your wrangled data. This is to be framed as an **external document**, like a blog post or magazine article, for example."
   ]
  },
  {
   "cell_type": "markdown",
   "metadata": {},
   "source": [
    "#### Files:\n",
    "\n",
    "- wrangle_act.ipynb: code for gathering, assessing, cleaning, analyzing, and visualizing data\n",
    "- wrangle_report.pdf or wrangle_report.html: documentation for data wrangling steps: gather, assess, and clean\n",
    "- act_report.pdf or act_report.html: documentation of analysis and insights into final data\n",
    "- twitter_archive_enhanced.csv: file as given\n",
    "- image_predictions.tsv: file downloaded programmatically\n",
    "- tweet_json.txt: file constructed via API\n",
    "- twitter_archive_master.csv: combined and cleaned data\n",
    "- any additional files (e.g. files for additional pieces of gathered data or a database file for your stored clean data)"
   ]
  }
 ],
 "metadata": {
  "kernelspec": {
   "display_name": "Python 3",
   "language": "python",
   "name": "python3"
  },
  "language_info": {
   "codemirror_mode": {
    "name": "ipython",
    "version": 3
   },
   "file_extension": ".py",
   "mimetype": "text/x-python",
   "name": "python",
   "nbconvert_exporter": "python",
   "pygments_lexer": "ipython3",
   "version": "3.7.1"
  }
 },
 "nbformat": 4,
 "nbformat_minor": 2
}
