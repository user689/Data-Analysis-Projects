{
 "cells": [
  {
   "cell_type": "markdown",
   "metadata": {},
   "source": [
    "### Datasets included:\n",
    "\n",
    "- **[Covid Containment Dataset][1]:** The dataset was collected from http://epidemicforecasting.org/containment. The description included:\n",
    ">>Each measure in the database has entries on:\n",
    "  - Country (and state for the US)\n",
    "  - Textual description of the measure\n",
    "  - Start date of measure\n",
    "  - End date (if available)\n",
    "  - URL to source of more information\n",
    "  - Systematic keyword labels (e.g. \"travel ban\" or \"hygiene enforcement\")\n",
    "\n",
    "- **[Covid-19 Dataset][2]:** Collected from the [World Health Organisation][3]. Content includes:\n",
    ">> This dataset has daily level information on the number of affected cases, deaths and recovery from 2019 novel coronavirus. Please note that this is a time series data and so the number of cases on any given day is the cumulative number.\n",
    "  - Sno - Serial number\n",
    "  - ObservationDate - Date of the observation in MM/DD/YYYY\n",
    "  - Province/State - Province or state of the observation (Could be empty when missing)\n",
    "  - Country/Region - Country of observation\n",
    "  - Last Update - Time in UTC at which the row is updated for the given province or country. (Not standardised and so please clean before using it)\n",
    "  - Confirmed - Cumulative number of confirmed cases till that date\n",
    "  - Deaths - Cumulative number of of deaths till that date\n",
    "  - Recovered - Cumulative number of recovered cases till that date\n",
    "- **[Country population and other data][5]:** Collected from a kaggle dataset. Only specific columns like population and median age are useful to compare countrie.\n",
    "  \n",
    "- **Data Specific to Country (Lebanon):** Since I am from Lebanon, I am interested in how this country compares to other countries. Most of the required data is available in the 2nd database. However, additional data was obtained manually from local and [government websites][4].\n",
    "[1]:https://www.kaggle.com/paultimothymooney/covid19-containment-and-mitigation-measures\n",
    "[2]:https://www.kaggle.com/sudalairajkumar/novel-corona-virus-2019-dataset\n",
    "[3]:https://www.who.int/emergencies/diseases/novel-coronavirus-2019\n",
    "[4]:http://corona.ministryinfo.gov.lb/\n",
    "[5]:https://www.kaggle.com/tanuprabhu/population-by-country-2020"
   ]
  },
  {
   "cell_type": "markdown",
   "metadata": {},
   "source": [
    "## Main Findings \n",
    "\n",
    "In this report we took a look at the global spread and containment of the Covid-19 virus. Some of the questions that we were able to answer:\n",
    "\n",
    "*Q: Which countries are doing better than others and why?*\n",
    "\n",
    "Many countries were able to reduce the impact of the virus not only by taking suitable measure but also by being able to enforce them quickly after discovering the first case.\n",
    "\n",
    "*Q: What measures are the most effective against the spread of the virus?*\n",
    "\n",
    "We have seen that the most common measures taken to limit the spread of the virus include: 'university closure', 'school closure','travel ban'. However, what is more important is being able to enforce them correctly and within time.\n",
    "\n",
    "*Q: How do the death and recovery rates compare according to population, density and median age of a country?*\n",
    "\n",
    "In general, countries with high population tend to have a higher number of cases. Median age seem to be weakly correlated with the number of deaths. \n",
    "\n",
    "*Q: How does Lebanon compare to other countries regarding measures taken and spread of the virus?*\n",
    "\n",
    "We saw how Lebanon compared with other countries. It is performing well in general but still has a long battle ahead."
   ]
  },
  {
   "cell_type": "markdown",
   "metadata": {},
   "source": [
    "## Resources\n",
    "\n",
    "### dataset resources:\n",
    "- [containment dataset][1]\n",
    "- [Covid-19 dataset][2]\n",
    "- [WHO dataset source][3]\n",
    "- [Lebanese Covid Dataset][4]\n",
    "- [Population  by Countrt dataset][5]\n",
    "\n",
    "### Others\n",
    "- [Concat column to list][6]\n",
    "- [Using WordCloud][7]\n",
    "- [How to know if we are beating Coronavirus- video][8]\n",
    "[1]:https://www.kaggle.com/paultimothymooney/covid19-containment-and-mitigation-measures\n",
    "[2]:https://www.kaggle.com/sudalairajkumar/novel-corona-virus-2019-dataset\n",
    "[3]:https://www.who.int/emergencies/diseases/novel-coronavirus-2019\n",
    "[4]:http://corona.ministryinfo.gov.lb/\n",
    "[5]:https://www.kaggle.com/tanuprabhu/population-by-country-2020\n",
    "[6]:https://stackoverflow.com/a/53463151/4145941\n",
    "[7]:https://www.datacamp.com/community/tutorials/wordcloud-python\n",
    "[8]:https://youtu.be/54XLXg4fYsc"
   ]
  }
 ],
 "metadata": {
  "kernelspec": {
   "display_name": "Python 3",
   "language": "python",
   "name": "python3"
  },
  "language_info": {
   "codemirror_mode": {
    "name": "ipython",
    "version": 3
   },
   "file_extension": ".py",
   "mimetype": "text/x-python",
   "name": "python",
   "nbconvert_exporter": "python",
   "pygments_lexer": "ipython3",
   "version": "3.7.1"
  }
 },
 "nbformat": 4,
 "nbformat_minor": 2
}
